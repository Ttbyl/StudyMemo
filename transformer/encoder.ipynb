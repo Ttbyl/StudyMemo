{
 "cells": [
  {
   "cell_type": "code",
   "execution_count": 11,
   "metadata": {},
   "outputs": [
    {
     "data": {
      "text/plain": [
       "<torch._C.Generator at 0x1875e375710>"
      ]
     },
     "execution_count": 11,
     "metadata": {},
     "output_type": "execute_result"
    }
   ],
   "source": [
    "import torch\n",
    "from torch import nn\n",
    "import torch.nn.functional as F\n",
    "import math\n",
    "torch.manual_seed(42)\n"
   ]
  },
  {
   "cell_type": "markdown",
   "metadata": {},
   "source": [
    "# Encoder"
   ]
  },
  {
   "cell_type": "markdown",
   "metadata": {},
   "source": [
    "## embedding"
   ]
  },
  {
   "cell_type": "markdown",
   "metadata": {},
   "source": [
    "## MultiHeadAttention"
   ]
  },
  {
   "cell_type": "code",
   "execution_count": 24,
   "metadata": {},
   "outputs": [],
   "source": [
    "d_model = 4 # 模型维度\n",
    "nhead = 2 # 多头数量\n",
    "batch_size = 2 \n",
    "seq_len = 3 # 长度\n",
    "input = torch.rand(batch_size, seq_len,d_model)"
   ]
  },
  {
   "cell_type": "code",
   "execution_count": 25,
   "metadata": {},
   "outputs": [],
   "source": [
    "class MultiHeadAttention(nn.Module):\n",
    "\n",
    "    def __init__(self,n_head,d_model,dropout=0.1):\n",
    "        super(MultiHeadAttention,self).__init__()\n",
    "        self.d_model = d_model\n",
    "        self.n_head = n_head\n",
    "        self.n_dim = d_model // n_head\n",
    "        assert self.d_model == self.n_head * self.n_dim\n",
    "\n",
    "        self.q_proj = nn.Linear(d_model,d_model)\n",
    "        self.k_proj = nn.Linear(d_model,d_model)\n",
    "        self.v_proj = nn.Linear(d_model,d_model)\n",
    "        self.output_proj = nn.Linear(d_model,d_model)\n",
    "\n",
    "\n",
    "        self.softmax = nn.Softmax(dim=-1)\n",
    "        self.dropout = nn.Dropout(dropout)\n",
    "\n",
    "    def forward(self,q,k,v):\n",
    "        batch_size, seq_len, dimension = q.shape\n",
    "        q = self.q_proj(q)\n",
    "        k = self.k_proj(k)\n",
    "        v = self.v_proj(v)\n",
    "\n",
    "        q = q.view(batch_size, seq_len, self.n_head, self.n_dim).permute(0, 2, 1, 3)\n",
    "        k = k.view(batch_size, seq_len, self.n_head, self.n_dim).permute(0, 2, 1, 3)\n",
    "        v = v.view(batch_size, seq_len, self.n_head, self.n_dim).permute(0, 2, 1, 3)\n",
    "\n",
    "        attention = self.softmax(q @ k.transpose(-1,-2) / math.sqrt(self.n_dim))\n",
    "\n",
    "        attention = self.dropout(attention)\n",
    "\n",
    "        output = (attention @ v).permute(0,2,1,3).contiguous().view(batch_size,seq_len,dimension)\n",
    "        output = self.output_proj(output)\n",
    "        return output"
   ]
  },
  {
   "cell_type": "code",
   "execution_count": 27,
   "metadata": {},
   "outputs": [],
   "source": [
    "attention = MultiHeadAttention(n_head=nhead, d_model=d_model, dropout=0)"
   ]
  },
  {
   "cell_type": "code",
   "execution_count": 32,
   "metadata": {},
   "outputs": [
    {
     "data": {
      "text/plain": [
       "tensor([[[-0.8874, -0.5777,  0.5994, -0.5397],\n",
       "         [-0.8842, -0.5756,  0.5989, -0.5419],\n",
       "         [-0.8879, -0.5780,  0.5994, -0.5392]],\n",
       "\n",
       "        [[-0.7352, -0.4972,  0.5359, -0.4731],\n",
       "         [-0.7308, -0.4902,  0.5311, -0.4723],\n",
       "         [-0.7295, -0.4893,  0.5307, -0.4725]]], grad_fn=<ViewBackward0>)"
      ]
     },
     "execution_count": 32,
     "metadata": {},
     "output_type": "execute_result"
    }
   ],
   "source": [
    "output = attention(input, input, input)\n",
    "output"
   ]
  }
 ],
 "metadata": {
  "kernelspec": {
   "display_name": "pytorch_yue",
   "language": "python",
   "name": "python3"
  },
  "language_info": {
   "codemirror_mode": {
    "name": "ipython",
    "version": 3
   },
   "file_extension": ".py",
   "mimetype": "text/x-python",
   "name": "python",
   "nbconvert_exporter": "python",
   "pygments_lexer": "ipython3",
   "version": "3.8.18"
  }
 },
 "nbformat": 4,
 "nbformat_minor": 2
}
