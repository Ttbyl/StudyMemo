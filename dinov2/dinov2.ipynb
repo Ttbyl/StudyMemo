{
 "cells": [
  {
   "cell_type": "code",
   "execution_count": null,
   "metadata": {},
   "outputs": [],
   "source": [
    "import torch"
   ]
  },
  {
   "cell_type": "markdown",
   "metadata": {},
   "source": [
    "# DinoV2"
   ]
  },
  {
   "cell_type": "markdown",
   "metadata": {},
   "source": [
    "## 数据集\n",
    "DinoV2 论文花费了很多内容去讲解如何构造的数据集，构建的数据集未 LVD-142M 是精选出来的图像数据集\n",
    "\n",
    "![alt text](imgs/Dinov2-data-processing.svg)"
   ]
  },
  {
   "cell_type": "markdown",
   "metadata": {},
   "source": [
    "## 模型\n",
    "DinoV2 的模型主要是基于[iBOT](https://github.com/bytedance/ibot)模型修改而来：  \n",
    "![alt text](ablation-study-ibot-dinov2.png)"
   ]
  },
  {
   "cell_type": "markdown",
   "metadata": {},
   "source": []
  }
 ],
 "metadata": {
  "kernelspec": {
   "display_name": "pytorch_yue",
   "language": "python",
   "name": "python3"
  },
  "language_info": {
   "name": "python",
   "version": "3.8.18"
  }
 },
 "nbformat": 4,
 "nbformat_minor": 2
}
